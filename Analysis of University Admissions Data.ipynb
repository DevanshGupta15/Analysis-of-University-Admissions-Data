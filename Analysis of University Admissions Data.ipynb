{
 "cells": [
  {
   "cell_type": "code",
   "execution_count": 1,
   "id": "282bd203",
   "metadata": {},
   "outputs": [],
   "source": [
    "import pandas as pd\n",
    "df= pd.read_csv(\"adm_data.csv\")\n",
    "df.head(2)\n",
    "import warnings\n",
    "warnings.simplefilter(action='ignore', category=FutureWarning)"
   ]
  },
  {
   "cell_type": "code",
   "execution_count": 2,
   "id": "04cbf882",
   "metadata": {},
   "outputs": [
    {
     "data": {
      "text/plain": [
       "(400, 9)"
      ]
     },
     "execution_count": 2,
     "metadata": {},
     "output_type": "execute_result"
    }
   ],
   "source": [
    "df.shape"
   ]
  },
  {
   "cell_type": "code",
   "execution_count": 3,
   "id": "a5eb1762",
   "metadata": {},
   "outputs": [
    {
     "data": {
      "image/png": "[encoded data removed]",
      "text/plain": [
       "<Figure size 432x288 with 1 Axes>"
      ]
     },
     "metadata": {
      "needs_background": "light"
     },
     "output_type": "display_data"
    }
   ],
   "source": [
    "import seaborn as sns\n",
    "import matplotlib.pyplot as plt\n",
    "sns.countplot(df[\"GRE Score\"])\n",
    "plt.xticks(rotation=90) # rotate the x-axis labels by 90 degrees\n",
    "plt.tight_layout()"
   ]
  },
  {
   "cell_type": "code",
   "execution_count": 4,
   "id": "c6231bff",
   "metadata": {
    "scrolled": true
   },
   "outputs": [
    {
     "data": {
      "text/plain": [
       "(array([0, 1, 2, 3, 4]),\n",
       " [Text(0, 0, '1'),\n",
       "  Text(1, 0, '2'),\n",
       "  Text(2, 0, '3'),\n",
       "  Text(3, 0, '4'),\n",
       "  Text(4, 0, '5')])"
      ]
     },
     "execution_count": 4,
     "metadata": {},
     "output_type": "execute_result"
    },
    {
     "data": {
      "image/png": "[encoded data removed]",
      "text/plain": [
       "<Figure size 432x288 with 1 Axes>"
      ]
     },
     "metadata": {
      "needs_background": "light"
     },
     "output_type": "display_data"
    }
   ],
   "source": [
    "sns.countplot(df[\"University Rating\"])\n",
    "plt.xticks(rotation=90)"
   ]
  },
  {
   "cell_type": "code",
   "execution_count": 5,
   "id": "df54bd78",
   "metadata": {},
   "outputs": [
    {
     "name": "stdout",
     "output_type": "stream",
     "text": [
      "<class 'pandas.core.frame.DataFrame'>\n",
      "RangeIndex: 400 entries, 0 to 399\n",
      "Data columns (total 9 columns):\n",
      " #   Column             Non-Null Count  Dtype  \n",
      "---  ------             --------------  -----  \n",
      " 0   Serial No.         400 non-null    int64  \n",
      " 1   GRE Score          400 non-null    int64  \n",
      " 2   TOEFL Score        400 non-null    int64  \n",
      " 3   University Rating  400 non-null    int64  \n",
      " 4   SOP                400 non-null    float64\n",
      " 5   LOR                400 non-null    float64\n",
      " 6   CGPA               400 non-null    float64\n",
      " 7   Research           400 non-null    int64  \n",
      " 8   Chance of Admit    400 non-null    float64\n",
      "dtypes: float64(4), int64(5)\n",
      "memory usage: 28.2 KB\n"
     ]
    }
   ],
   "source": [
    "df.info()"
   ]
  },
  {
   "cell_type": "code",
   "execution_count": 6,
   "id": "f28a5215",
   "metadata": {},
   "outputs": [
    {
     "data": {
      "text/plain": [
       "<AxesSubplot:xlabel='Research', ylabel='count'>"
      ]
     },
     "execution_count": 6,
     "metadata": {},
     "output_type": "execute_result"
    },
    {
     "data": {
      "image/png": "[encoded data removed]",
      "text/plain": [
       "<Figure size 432x288 with 1 Axes>"
      ]
     },
     "metadata": {
      "needs_background": "light"
     },
     "output_type": "display_data"
    }
   ],
   "source": [
    "sns.countplot(df[\"Research\"])\n"
   ]
  },
  {
   "cell_type": "code",
   "execution_count": 7,
   "id": "926052c2",
   "metadata": {},
   "outputs": [
    {
     "data": {
      "text/plain": [
       "(array([0, 1, 2, 3, 4, 5, 6, 7, 8]),\n",
       " [Text(0, 0, '1.0'),\n",
       "  Text(1, 0, '1.5'),\n",
       "  Text(2, 0, '2.0'),\n",
       "  Text(3, 0, '2.5'),\n",
       "  Text(4, 0, '3.0'),\n",
       "  Text(5, 0, '3.5'),\n",
       "  Text(6, 0, '4.0'),\n",
       "  Text(7, 0, '4.5'),\n",
       "  Text(8, 0, '5.0')])"
      ]
     },
     "execution_count": 7,
     "metadata": {},
     "output_type": "execute_result"
    },
    {
     "data": {
      "image/png": "[encoded data removed]",
      "text/plain": [
       "<Figure size 432x288 with 1 Axes>"
      ]
     },
     "metadata": {
      "needs_background": "light"
     },
     "output_type": "display_data"
    }
   ],
   "source": [
    "sns.countplot(df[\"SOP\"])\n",
    "plt.xticks(rotation=90)"
   ]
  },
  {
   "cell_type": "code",
   "execution_count": 8,
   "id": "a50018a4",
   "metadata": {},
   "outputs": [
    {
     "data": {
      "text/plain": [
       "(array([0, 1, 2, 3, 4, 5, 6, 7, 8]),\n",
       " [Text(0, 0, '1.0'),\n",
       "  Text(1, 0, '1.5'),\n",
       "  Text(2, 0, '2.0'),\n",
       "  Text(3, 0, '2.5'),\n",
       "  Text(4, 0, '3.0'),\n",
       "  Text(5, 0, '3.5'),\n",
       "  Text(6, 0, '4.0'),\n",
       "  Text(7, 0, '4.5'),\n",
       "  Text(8, 0, '5.0')])"
      ]
     },
     "execution_count": 8,
     "metadata": {},
     "output_type": "execute_result"
    },
    {
     "data": {
      "image/png": "[encoded data removed]",
      "text/plain": [
       "<Figure size 432x288 with 1 Axes>"
      ]
     },
     "metadata": {
      "needs_background": "light"
     },
     "output_type": "display_data"
    }
   ],
   "source": [
    "sns.countplot(df[\"LOR \"])\n",
    "plt.xticks(rotation=90)"
   ]
  },
  {
   "cell_type": "code",
   "execution_count": 9,
   "id": "b951192e",
   "metadata": {},
   "outputs": [
    {
     "data": {
      "text/plain": [
       "0      4.5\n",
       "1      4.5\n",
       "2      3.5\n",
       "3      2.5\n",
       "4      3.0\n",
       "      ... \n",
       "395    3.5\n",
       "396    3.5\n",
       "397    4.5\n",
       "398    4.0\n",
       "399    4.0\n",
       "Name: LOR , Length: 400, dtype: float64"
      ]
     },
     "execution_count": 9,
     "metadata": {},
     "output_type": "execute_result"
    }
   ],
   "source": [
    "df[\"LOR \"]"
   ]
  },
  {
   "cell_type": "code",
   "execution_count": 10,
   "id": "a240f2c3",
   "metadata": {},
   "outputs": [
    {
     "data": {
      "text/html": [
       "<div>\n",
       "<style scoped>\n",
       "    .dataframe tbody tr th:only-of-type {\n",
       "        vertical-align: middle;\n",
       "    }\n",
       "\n",
       "    .dataframe tbody tr th {\n",
       "        vertical-align: top;\n",
       "    }\n",
       "\n",
       "    .dataframe thead th {\n",
       "        text-align: right;\n",
       "    }\n",
       "</style>\n",
       "<table border=\"1\" class=\"dataframe\">\n",
       "  <thead>\n",
       "    <tr style=\"text-align: right;\">\n",
       "      <th></th>\n",
       "      <th>Serial No.</th>\n",
       "      <th>GRE Score</th>\n",
       "      <th>TOEFL Score</th>\n",
       "      <th>University Rating</th>\n",
       "      <th>SOP</th>\n",
       "      <th>LOR</th>\n",
       "      <th>CGPA</th>\n",
       "      <th>Research</th>\n",
       "      <th>Chance of Admit</th>\n",
       "    </tr>\n",
       "  </thead>\n",
       "  <tbody>\n",
       "    <tr>\n",
       "      <th>223</th>\n",
       "      <td>224</td>\n",
       "      <td>308</td>\n",
       "      <td>109</td>\n",
       "      <td>2</td>\n",
       "      <td>3.0</td>\n",
       "      <td>4.0</td>\n",
       "      <td>8.45</td>\n",
       "      <td>0</td>\n",
       "      <td>0.71</td>\n",
       "    </tr>\n",
       "    <tr>\n",
       "      <th>186</th>\n",
       "      <td>187</td>\n",
       "      <td>317</td>\n",
       "      <td>107</td>\n",
       "      <td>3</td>\n",
       "      <td>3.5</td>\n",
       "      <td>3.0</td>\n",
       "      <td>8.68</td>\n",
       "      <td>1</td>\n",
       "      <td>0.84</td>\n",
       "    </tr>\n",
       "    <tr>\n",
       "      <th>20</th>\n",
       "      <td>21</td>\n",
       "      <td>312</td>\n",
       "      <td>107</td>\n",
       "      <td>3</td>\n",
       "      <td>3.0</td>\n",
       "      <td>2.0</td>\n",
       "      <td>7.90</td>\n",
       "      <td>1</td>\n",
       "      <td>0.64</td>\n",
       "    </tr>\n",
       "  </tbody>\n",
       "</table>\n",
       "</div>"
      ],
      "text/plain": [
       "     Serial No.  GRE Score  TOEFL Score  University Rating  SOP  LOR   CGPA  \\\n",
       "223         224        308          109                  2  3.0   4.0  8.45   \n",
       "186         187        317          107                  3  3.5   3.0  8.68   \n",
       "20           21        312          107                  3  3.0   2.0  7.90   \n",
       "\n",
       "     Research  Chance of Admit   \n",
       "223         0              0.71  \n",
       "186         1              0.84  \n",
       "20          1              0.64  "
      ]
     },
     "execution_count": 10,
     "metadata": {},
     "output_type": "execute_result"
    }
   ],
   "source": [
    "df.sample(3)"
   ]
  },
  {
   "cell_type": "code",
   "execution_count": 11,
   "id": "b2869931",
   "metadata": {},
   "outputs": [],
   "source": [
    "df=df.drop(columns=\"Serial No.\")"
   ]
  },
  {
   "cell_type": "code",
   "execution_count": 12,
   "id": "83abc84d",
   "metadata": {},
   "outputs": [],
   "source": [
    "X = df.drop(columns=\"Chance of Admit \",axis=1)\n",
    "y= df[\"Chance of Admit \"]"
   ]
  },
  {
   "cell_type": "code",
   "execution_count": 13,
   "id": "5b532709",
   "metadata": {},
   "outputs": [
    {
     "name": "stdout",
     "output_type": "stream",
     "text": [
      "Linear Regression: MSE=0.00, R2=0.80\n",
      "Ridge Regression: MSE=0.00, R2=0.80\n",
      "Lasso Regression: MSE=0.01, R2=0.27\n",
      "Decision Tree: MSE=0.00, R2=1.00\n",
      "Random Forest: MSE=0.00, R2=0.96\n"
     ]
    }
   ],
   "source": [
    "from sklearn.linear_model import LinearRegression\n",
    "from sklearn.linear_model import Ridge, Lasso\n",
    "from sklearn.ensemble import RandomForestRegressor\n",
    "from sklearn.tree import DecisionTreeRegressor\n",
    "from sklearn.metrics import mean_squared_error , r2_score\n",
    "\n",
    "\n",
    "models = [LinearRegression(), \n",
    "          Ridge(), \n",
    "          Lasso(), \n",
    "          DecisionTreeRegressor(), \n",
    "          RandomForestRegressor()]\n",
    "model_names = ['Linear Regression', 'Ridge Regression', 'Lasso Regression', 'Decision Tree', 'Random Forest']\n",
    "\n",
    "# Evaluate each model\n",
    "for model, name in zip(models, model_names):\n",
    "    model.fit(X, y)\n",
    "    y_pred = model.predict(X)\n",
    "    mse = mean_squared_error(y, y_pred)\n",
    "    r2 = r2_score(y, y_pred)\n",
    "    print(f'{name}: MSE={mse:.2f}, R2={r2:.2f}')"
   ]
  },
  {
   "cell_type": "code",
   "execution_count": 14,
   "id": "1f4aaadb",
   "metadata": {},
   "outputs": [],
   "source": [
    "from sklearn.tree import DecisionTreeRegressor\n",
    "final_model = DecisionTreeRegressor()\n",
    "final_model.fit(X,y)\n",
    "y_preds = final_model.predict(X)"
   ]
  },
  {
   "cell_type": "code",
   "execution_count": 15,
   "id": "dcbefaad",
   "metadata": {},
   "outputs": [
    {
     "name": "stdout",
     "output_type": "stream",
     "text": [
      "[0.92 0.76 0.72 0.8  0.65 0.9  0.75 0.68 0.5  0.45 0.52 0.84 0.78 0.62\n",
      " 0.61 0.54 0.66 0.65 0.63 0.62 0.64 0.7  0.94 0.95 0.97 0.94 0.76 0.44\n",
      " 0.46 0.54 0.65 0.74 0.91 0.9  0.94 0.88 0.64 0.58 0.52 0.48 0.46 0.49\n",
      " 0.53 0.87 0.91 0.88 0.86 0.89 0.82 0.78 0.76 0.56 0.78 0.72 0.7  0.64\n",
      " 0.64 0.46 0.36 0.42 0.48 0.47 0.54 0.56 0.52 0.55 0.61 0.57 0.68 0.78\n",
      " 0.94 0.96 0.93 0.84 0.74 0.72 0.74 0.64 0.44 0.46 0.5  0.96 0.92 0.92\n",
      " 0.94 0.76 0.72 0.66 0.64 0.74 0.64 0.38 0.34 0.44 0.36 0.42 0.48 0.86\n",
      " 0.9  0.79 0.71 0.64 0.62 0.57 0.74 0.69 0.87 0.91 0.93 0.68 0.61 0.69\n",
      " 0.62 0.72 0.59 0.66 0.56 0.45 0.47 0.71 0.94 0.94 0.57 0.61 0.57 0.64\n",
      " 0.85 0.78 0.84 0.92 0.96 0.77 0.71 0.79 0.89 0.82 0.76 0.71 0.8  0.78\n",
      " 0.84 0.9  0.92 0.97 0.8  0.81 0.75 0.83 0.96 0.79 0.93 0.94 0.86 0.79\n",
      " 0.8  0.77 0.7  0.65 0.61 0.52 0.57 0.53 0.67 0.68 0.81 0.78 0.65 0.64\n",
      " 0.64 0.65 0.68 0.89 0.86 0.89 0.87 0.85 0.9  0.82 0.72 0.73 0.71 0.71\n",
      " 0.68 0.75 0.72 0.89 0.84 0.93 0.93 0.88 0.9  0.87 0.86 0.94 0.77 0.78\n",
      " 0.73 0.73 0.7  0.72 0.73 0.72 0.97 0.97 0.69 0.57 0.63 0.66 0.64 0.68\n",
      " 0.79 0.82 0.95 0.96 0.94 0.93 0.91 0.85 0.84 0.74 0.76 0.75 0.76 0.71\n",
      " 0.67 0.61 0.63 0.64 0.71 0.82 0.73 0.74 0.69 0.64 0.91 0.88 0.85 0.86\n",
      " 0.7  0.59 0.6  0.65 0.7  0.76 0.63 0.81 0.72 0.71 0.8  0.77 0.74 0.7\n",
      " 0.71 0.93 0.85 0.79 0.76 0.78 0.77 0.9  0.87 0.71 0.7  0.7  0.75 0.71\n",
      " 0.72 0.73 0.83 0.77 0.72 0.54 0.49 0.52 0.58 0.78 0.89 0.7  0.66 0.67\n",
      " 0.68 0.8  0.81 0.8  0.94 0.93 0.92 0.89 0.82 0.79 0.58 0.56 0.56 0.64\n",
      " 0.61 0.68 0.76 0.86 0.9  0.71 0.62 0.66 0.65 0.73 0.62 0.74 0.79 0.8\n",
      " 0.69 0.7  0.76 0.84 0.78 0.67 0.66 0.65 0.54 0.58 0.79 0.8  0.75 0.73\n",
      " 0.72 0.62 0.67 0.81 0.63 0.69 0.8  0.43 0.8  0.73 0.75 0.71 0.73 0.83\n",
      " 0.72 0.94 0.81 0.81 0.75 0.79 0.58 0.59 0.47 0.49 0.47 0.42 0.57 0.62\n",
      " 0.74 0.73 0.64 0.63 0.59 0.73 0.79 0.68 0.7  0.81 0.85 0.93 0.91 0.69\n",
      " 0.77 0.86 0.74 0.57 0.51 0.67 0.72 0.89 0.95 0.79 0.39 0.38 0.34 0.47\n",
      " 0.56 0.71 0.78 0.73 0.82 0.62 0.96 0.96 0.46 0.53 0.49 0.76 0.64 0.71\n",
      " 0.84 0.77 0.89 0.82 0.84 0.91 0.67 0.95]\n"
     ]
    }
   ],
   "source": [
    "print(y_preds)"
   ]
  },
  {
   "cell_type": "code",
   "execution_count": 16,
   "id": "9f8ce539",
   "metadata": {},
   "outputs": [
    {
     "name": "stdout",
     "output_type": "stream",
     "text": [
      "[0.9286 0.7805 0.6955 0.7917 0.6449 0.9068 0.7394 0.6482 0.5226 0.5887\n",
      " 0.6158 0.8291 0.8072 0.5916 0.6236 0.5823 0.6792 0.6548 0.6766 0.6225\n",
      " 0.6336 0.6859 0.9347 0.942  0.9665 0.9412 0.7587 0.4657 0.4684 0.5245\n",
      " 0.6357 0.6992 0.912  0.9121 0.9476 0.8835 0.6359 0.5573 0.5226 0.5334\n",
      " 0.5334 0.5508 0.5762 0.8551 0.9065 0.8715 0.8731 0.9129 0.8024 0.7452\n",
      " 0.7313 0.5611 0.7264 0.7171 0.6824 0.6354 0.5918 0.4575 0.4218 0.5245\n",
      " 0.5297 0.5327 0.583  0.6091 0.6057 0.6533 0.6614 0.6457 0.7637 0.8077\n",
      " 0.9407 0.9563 0.9185 0.8114 0.7508 0.7254 0.7472 0.6379 0.4421 0.4669\n",
      " 0.5509 0.9534 0.9029 0.9165 0.9308 0.7474 0.7083 0.6639 0.6477 0.7517\n",
      " 0.6483 0.4173 0.4506 0.4756 0.3919 0.4579 0.515  0.8328 0.9023 0.7919\n",
      " 0.7149 0.6532 0.6372 0.6226 0.757  0.7277 0.8625 0.9158 0.9306 0.6955\n",
      " 0.6317 0.7264 0.6284 0.7143 0.6401 0.7149 0.5994 0.465  0.5033 0.7431\n",
      " 0.9398 0.9411 0.6265 0.6338 0.5957 0.6582 0.8665 0.7565 0.8214 0.9258\n",
      " 0.9592 0.7369 0.7057 0.7669 0.8962 0.7874 0.7382 0.6735 0.8038 0.771\n",
      " 0.8351 0.9049 0.9215 0.9689 0.7989 0.7749 0.7152 0.8235 0.9609 0.756\n",
      " 0.9186 0.9292 0.8624 0.76   0.7555 0.7479 0.695  0.6582 0.6222 0.5377\n",
      " 0.5679 0.5196 0.6845 0.6865 0.8164 0.801  0.6555 0.6559 0.5987 0.6265\n",
      " 0.6642 0.8816 0.8528 0.8859 0.8507 0.8209 0.8723 0.8013 0.6896 0.6968\n",
      " 0.6818 0.6876 0.633  0.7394 0.7011 0.8716 0.8043 0.9273 0.9244 0.8764\n",
      " 0.8851 0.8603 0.8345 0.9374 0.7535 0.7378 0.7175 0.7053 0.7121 0.7294\n",
      " 0.7257 0.6958 0.9685 0.9672 0.6534 0.5476 0.6109 0.654  0.6369 0.6784\n",
      " 0.802  0.8275 0.9501 0.9585 0.9295 0.9267 0.9017 0.8436 0.8302 0.7307\n",
      " 0.7459 0.7368 0.7497 0.6987 0.66   0.5945 0.6579 0.6572 0.7091 0.814\n",
      " 0.7313 0.7306 0.6919 0.6284 0.9061 0.889  0.8492 0.8719 0.6925 0.5693\n",
      " 0.5966 0.6478 0.7188 0.7613 0.6515 0.8038 0.7252 0.7007 0.7944 0.7717\n",
      " 0.7319 0.7205 0.7035 0.9323 0.8414 0.76   0.7335 0.7792 0.7715 0.9035\n",
      " 0.8687 0.6885 0.6993 0.7368 0.7539 0.7125 0.6992 0.7157 0.8361 0.7393\n",
      " 0.6848 0.5175 0.4875 0.5394 0.5834 0.7893 0.8998 0.6894 0.6746 0.6834\n",
      " 0.6913 0.7889 0.7697 0.7938 0.934  0.9218 0.9109 0.8824 0.7922 0.7902\n",
      " 0.5613 0.5533 0.5567 0.6445 0.6143 0.6748 0.7488 0.8492 0.8981 0.7042\n",
      " 0.604  0.6904 0.6727 0.7294 0.623  0.7522 0.8023 0.8058 0.6842 0.6903\n",
      " 0.7565 0.841  0.7671 0.639  0.6602 0.6376 0.5315 0.5827 0.7701 0.7879\n",
      " 0.7227 0.7213 0.698  0.6176 0.6735 0.8126 0.5965 0.6362 0.7907 0.4639\n",
      " 0.7868 0.6867 0.7025 0.7238 0.7324 0.8377 0.7155 0.9394 0.7961 0.789\n",
      " 0.7233 0.7787 0.6174 0.6114 0.4672 0.5135 0.4713 0.4426 0.5197 0.6292\n",
      " 0.7253 0.7531 0.6312 0.6426 0.5628 0.697  0.7814 0.6384 0.6377 0.7156\n",
      " 0.8173 0.9264 0.9127 0.6892 0.7619 0.8528 0.7374 0.5461 0.5093 0.6274\n",
      " 0.6887 0.8603 0.9432 0.768  0.4807 0.4176 0.3987 0.4843 0.5165 0.6955\n",
      " 0.7733 0.7355 0.8284 0.6282 0.9568 0.9605 0.542  0.5775 0.5002 0.7419\n",
      " 0.6478 0.7097 0.837  0.7424 0.8898 0.8074 0.8271 0.912  0.7038 0.9433]\n"
     ]
    }
   ],
   "source": [
    "print (y_pred)"
   ]
  },
  {
   "cell_type": "code",
   "execution_count": 17,
   "id": "18f8da7d",
   "metadata": {},
   "outputs": [
    {
     "name": "stdout",
     "output_type": "stream",
     "text": [
      "0      0.92\n",
      "1      0.76\n",
      "2      0.72\n",
      "3      0.80\n",
      "4      0.65\n",
      "       ... \n",
      "395    0.82\n",
      "396    0.84\n",
      "397    0.91\n",
      "398    0.67\n",
      "399    0.95\n",
      "Name: Chance of Admit , Length: 400, dtype: float64\n"
     ]
    }
   ],
   "source": [
    "print(y)"
   ]
  },
  {
   "cell_type": "code",
   "execution_count": 18,
   "id": "849fd7cb",
   "metadata": {},
   "outputs": [
    {
     "data": {
      "text/plain": [
       "0.963788659028365"
      ]
     },
     "execution_count": 18,
     "metadata": {},
     "output_type": "execute_result"
    }
   ],
   "source": [
    "from sklearn import metrics\n",
    "error_score = metrics.r2_score(y,y_pred)\n",
    "error_score"
   ]
  },
  {
   "cell_type": "code",
   "execution_count": 19,
   "id": "86e75b26",
   "metadata": {},
   "outputs": [
    {
     "data": {
      "image/png": "[encoded data removed]",
      "text/plain": [
       "<Figure size 432x288 with 1 Axes>"
      ]
     },
     "metadata": {
      "needs_background": "light"
     },
     "output_type": "display_data"
    }
   ],
   "source": [
    "\n",
    "y_pred = list(y)\n",
    "plt.plot(y, color='blue', label = 'Actual Value')\n",
    "plt.plot(y_pred, color='green', label='Predicted Value')\n",
    "plt.title('Actual Price vs Predicted Price')\n",
    "plt.xlabel('Number of values')\n",
    "plt.ylabel('GLD Price')\n",
    "plt.legend()\n",
    "plt.show()"
   ]
  },
  {
   "cell_type": "code",
   "execution_count": 20,
   "id": "d66dcdba",
   "metadata": {},
   "outputs": [],
   "source": [
    "import pickle "
   ]
  },
  {
   "cell_type": "code",
   "execution_count": 21,
   "id": "387f9e96",
   "metadata": {},
   "outputs": [
    {
     "name": "stdout",
     "output_type": "stream",
     "text": [
      "[0.92]\n"
     ]
    },
    {
     "name": "stderr",
     "output_type": "stream",
     "text": [
      "/Users/devansh/opt/anaconda3/lib/python3.9/site-packages/sklearn/base.py:450: UserWarning: X does not have valid feature names, but DecisionTreeRegressor was fitted with feature names\n",
      "  warnings.warn(\n"
     ]
    }
   ],
   "source": [
    "import numpy as np\n",
    "input_data = (337,118,4,4.5,4.5,9.65,1)\n",
    "input_data_as_nparray = np.asarray(input_data)\n",
    "input_data_reshape =input_data_as_nparray.reshape(1,-1)\n",
    "prediction = final_model.predict(input_data_reshape)\n",
    "print(prediction)"
   ]
  },
  {
   "cell_type": "code",
   "execution_count": 22,
   "id": "398864e8",
   "metadata": {},
   "outputs": [],
   "source": [
    "filename = 'trained_model.sav'\n",
    "pickle.dump(final_model, open(filename, 'wb'))\n",
    "loaded_model = pickle.load(open('trained_model.sav', 'rb'))"
   ]
  },
  {
   "cell_type": "code",
   "execution_count": 27,
   "id": "34b53b7d",
   "metadata": {},
   "outputs": [
    {
     "name": "stdout",
     "output_type": "stream",
     "text": [
      "[0.64]\n"
     ]
    },
    {
     "name": "stderr",
     "output_type": "stream",
     "text": [
      "/Users/devansh/opt/anaconda3/lib/python3.9/site-packages/sklearn/base.py:450: UserWarning: X does not have valid feature names, but DecisionTreeRegressor was fitted with feature names\n",
      "  warnings.warn(\n"
     ]
    }
   ],
   "source": [
    "input_data = (300,113,3,3,3.5,8.65,1)\n",
    "input_data_as_nparray = np.asarray(input_data)\n",
    "input_data_reshape =input_data_as_nparray.reshape(1,-1)\n",
    "prediction = loaded_model.predict(input_data_reshape)\n",
    "print(prediction)"
   ]
  },
  {
   "cell_type": "code",
   "execution_count": null,
   "id": "b6286570",
   "metadata": {},
   "outputs": [],
   "source": []
  },
  {
   "cell_type": "code",
   "execution_count": null,
   "id": "f4c5127c",
   "metadata": {},
   "outputs": [],
   "source": []
  }
 ],
 "metadata": {
  "kernelspec": {
   "display_name": "Python 3 (ipykernel)",
   "language": "python",
   "name": "python3"
  },
  "language_info": {
   "codemirror_mode": {
    "name": "ipython",
    "version": 3
   },
   "file_extension": ".py",
   "mimetype": "text/x-python",
   "name": "python",
   "nbconvert_exporter": "python",
   "pygments_lexer": "ipython3",
   "version": "3.9.12"
  }
 },
 "nbformat": 4,
 "nbformat_minor": 5
}
